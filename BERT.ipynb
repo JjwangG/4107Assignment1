{
  "nbformat": 4,
  "nbformat_minor": 0,
  "metadata": {
    "colab": {
      "provenance": []
    },
    "kernelspec": {
      "name": "python3",
      "display_name": "Python 3"
    },
    "language_info": {
      "name": "python"
    }
  },
  "cells": [
    {
      "cell_type": "code",
      "source": [
        "pip install -U sentence-transformers"
      ],
      "metadata": {
        "colab": {
          "base_uri": "https://localhost:8080/"
        },
        "id": "QNsX-F3YspPt",
        "outputId": "8ee220fb-761a-4ebc-e46d-2ef4c5d3a4de"
      },
      "execution_count": null,
      "outputs": [
        {
          "output_type": "stream",
          "name": "stdout",
          "text": [
            "Looking in indexes: https://pypi.org/simple, https://us-python.pkg.dev/colab-wheels/public/simple/\n",
            "Collecting sentence-transformers\n",
            "  Downloading sentence-transformers-2.2.2.tar.gz (85 kB)\n",
            "\u001b[2K     \u001b[90m━━━━━━━━━━━━━━━━━━━━━━━━━━━━━━━━━━━━━━━━\u001b[0m \u001b[32m86.0/86.0 KB\u001b[0m \u001b[31m2.7 MB/s\u001b[0m eta \u001b[36m0:00:00\u001b[0m\n",
            "\u001b[?25h  Preparing metadata (setup.py) ... \u001b[?25l\u001b[?25hdone\n",
            "Collecting transformers<5.0.0,>=4.6.0\n",
            "  Downloading transformers-4.27.4-py3-none-any.whl (6.8 MB)\n",
            "\u001b[2K     \u001b[90m━━━━━━━━━━━━━━━━━━━━━━━━━━━━━━━━━━━━━━━━\u001b[0m \u001b[32m6.8/6.8 MB\u001b[0m \u001b[31m52.4 MB/s\u001b[0m eta \u001b[36m0:00:00\u001b[0m\n",
            "\u001b[?25hRequirement already satisfied: tqdm in /usr/local/lib/python3.9/dist-packages (from sentence-transformers) (4.65.0)\n",
            "Requirement already satisfied: torch>=1.6.0 in /usr/local/lib/python3.9/dist-packages (from sentence-transformers) (2.0.0+cu118)\n",
            "Requirement already satisfied: torchvision in /usr/local/lib/python3.9/dist-packages (from sentence-transformers) (0.15.1+cu118)\n",
            "Requirement already satisfied: numpy in /usr/local/lib/python3.9/dist-packages (from sentence-transformers) (1.22.4)\n",
            "Requirement already satisfied: scikit-learn in /usr/local/lib/python3.9/dist-packages (from sentence-transformers) (1.2.2)\n",
            "Requirement already satisfied: scipy in /usr/local/lib/python3.9/dist-packages (from sentence-transformers) (1.10.1)\n",
            "Requirement already satisfied: nltk in /usr/local/lib/python3.9/dist-packages (from sentence-transformers) (3.8.1)\n",
            "Collecting sentencepiece\n",
            "  Downloading sentencepiece-0.1.97-cp39-cp39-manylinux_2_17_x86_64.manylinux2014_x86_64.whl (1.3 MB)\n",
            "\u001b[2K     \u001b[90m━━━━━━━━━━━━━━━━━━━━━━━━━━━━━━━━━━━━━━━━\u001b[0m \u001b[32m1.3/1.3 MB\u001b[0m \u001b[31m18.8 MB/s\u001b[0m eta \u001b[36m0:00:00\u001b[0m\n",
            "\u001b[?25hCollecting huggingface-hub>=0.4.0\n",
            "  Downloading huggingface_hub-0.13.4-py3-none-any.whl (200 kB)\n",
            "\u001b[2K     \u001b[90m━━━━━━━━━━━━━━━━━━━━━━━━━━━━━━━━━━━━━━\u001b[0m \u001b[32m200.1/200.1 KB\u001b[0m \u001b[31m13.4 MB/s\u001b[0m eta \u001b[36m0:00:00\u001b[0m\n",
            "\u001b[?25hRequirement already satisfied: typing-extensions>=3.7.4.3 in /usr/local/lib/python3.9/dist-packages (from huggingface-hub>=0.4.0->sentence-transformers) (4.5.0)\n",
            "Requirement already satisfied: requests in /usr/local/lib/python3.9/dist-packages (from huggingface-hub>=0.4.0->sentence-transformers) (2.27.1)\n",
            "Requirement already satisfied: pyyaml>=5.1 in /usr/local/lib/python3.9/dist-packages (from huggingface-hub>=0.4.0->sentence-transformers) (6.0)\n",
            "Requirement already satisfied: packaging>=20.9 in /usr/local/lib/python3.9/dist-packages (from huggingface-hub>=0.4.0->sentence-transformers) (23.0)\n",
            "Requirement already satisfied: filelock in /usr/local/lib/python3.9/dist-packages (from huggingface-hub>=0.4.0->sentence-transformers) (3.10.7)\n",
            "Requirement already satisfied: triton==2.0.0 in /usr/local/lib/python3.9/dist-packages (from torch>=1.6.0->sentence-transformers) (2.0.0)\n",
            "Requirement already satisfied: jinja2 in /usr/local/lib/python3.9/dist-packages (from torch>=1.6.0->sentence-transformers) (3.1.2)\n",
            "Requirement already satisfied: sympy in /usr/local/lib/python3.9/dist-packages (from torch>=1.6.0->sentence-transformers) (1.11.1)\n",
            "Requirement already satisfied: networkx in /usr/local/lib/python3.9/dist-packages (from torch>=1.6.0->sentence-transformers) (3.0)\n",
            "Requirement already satisfied: cmake in /usr/local/lib/python3.9/dist-packages (from triton==2.0.0->torch>=1.6.0->sentence-transformers) (3.25.2)\n",
            "Requirement already satisfied: lit in /usr/local/lib/python3.9/dist-packages (from triton==2.0.0->torch>=1.6.0->sentence-transformers) (16.0.0)\n",
            "Collecting tokenizers!=0.11.3,<0.14,>=0.11.1\n",
            "  Downloading tokenizers-0.13.3-cp39-cp39-manylinux_2_17_x86_64.manylinux2014_x86_64.whl (7.8 MB)\n",
            "\u001b[2K     \u001b[90m━━━━━━━━━━━━━━━━━━━━━━━━━━━━━━━━━━━━━━━━\u001b[0m \u001b[32m7.8/7.8 MB\u001b[0m \u001b[31m40.2 MB/s\u001b[0m eta \u001b[36m0:00:00\u001b[0m\n",
            "\u001b[?25hRequirement already satisfied: regex!=2019.12.17 in /usr/local/lib/python3.9/dist-packages (from transformers<5.0.0,>=4.6.0->sentence-transformers) (2022.10.31)\n",
            "Requirement already satisfied: click in /usr/local/lib/python3.9/dist-packages (from nltk->sentence-transformers) (8.1.3)\n",
            "Requirement already satisfied: joblib in /usr/local/lib/python3.9/dist-packages (from nltk->sentence-transformers) (1.1.1)\n",
            "Requirement already satisfied: threadpoolctl>=2.0.0 in /usr/local/lib/python3.9/dist-packages (from scikit-learn->sentence-transformers) (3.1.0)\n",
            "Requirement already satisfied: pillow!=8.3.*,>=5.3.0 in /usr/local/lib/python3.9/dist-packages (from torchvision->sentence-transformers) (8.4.0)\n",
            "Requirement already satisfied: MarkupSafe>=2.0 in /usr/local/lib/python3.9/dist-packages (from jinja2->torch>=1.6.0->sentence-transformers) (2.1.2)\n",
            "Requirement already satisfied: idna<4,>=2.5 in /usr/local/lib/python3.9/dist-packages (from requests->huggingface-hub>=0.4.0->sentence-transformers) (3.4)\n",
            "Requirement already satisfied: charset-normalizer~=2.0.0 in /usr/local/lib/python3.9/dist-packages (from requests->huggingface-hub>=0.4.0->sentence-transformers) (2.0.12)\n",
            "Requirement already satisfied: certifi>=2017.4.17 in /usr/local/lib/python3.9/dist-packages (from requests->huggingface-hub>=0.4.0->sentence-transformers) (2022.12.7)\n",
            "Requirement already satisfied: urllib3<1.27,>=1.21.1 in /usr/local/lib/python3.9/dist-packages (from requests->huggingface-hub>=0.4.0->sentence-transformers) (1.26.15)\n",
            "Requirement already satisfied: mpmath>=0.19 in /usr/local/lib/python3.9/dist-packages (from sympy->torch>=1.6.0->sentence-transformers) (1.3.0)\n",
            "Building wheels for collected packages: sentence-transformers\n",
            "  Building wheel for sentence-transformers (setup.py) ... \u001b[?25l\u001b[?25hdone\n",
            "  Created wheel for sentence-transformers: filename=sentence_transformers-2.2.2-py3-none-any.whl size=125942 sha256=ae10968fddb9bdbaf938bd7fc836cbe30bcaefaebeeef4ed85d2330c87e9a933\n",
            "  Stored in directory: /root/.cache/pip/wheels/71/67/06/162a3760c40d74dd40bc855d527008d26341c2b0ecf3e8e11f\n",
            "Successfully built sentence-transformers\n",
            "Installing collected packages: tokenizers, sentencepiece, huggingface-hub, transformers, sentence-transformers\n",
            "Successfully installed huggingface-hub-0.13.4 sentence-transformers-2.2.2 sentencepiece-0.1.97 tokenizers-0.13.3 transformers-4.27.4\n"
          ]
        }
      ]
    },
    {
      "cell_type": "code",
      "source": [
        "from sentence_transformers import SentenceTransformer\n",
        "\n",
        "model = SentenceTransformer('all-mpnet-base-v2')"
      ],
      "metadata": {
        "id": "JVsDjaDJsKmQ"
      },
      "execution_count": null,
      "outputs": []
    },
    {
      "cell_type": "code",
      "source": [
        "from sklearn.metrics.pairwise import cosine_similarity"
      ],
      "metadata": {
        "id": "jthpouqtsWSF"
      },
      "execution_count": null,
      "outputs": []
    },
    {
      "cell_type": "code",
      "source": [
        "import re "
      ],
      "metadata": {
        "id": "7XMW5vhY4HYp"
      },
      "execution_count": null,
      "outputs": []
    },
    {
      "cell_type": "code",
      "source": [
        "import numpy as np"
      ],
      "metadata": {
        "id": "toInxAKXD4LD"
      },
      "execution_count": null,
      "outputs": []
    },
    {
      "cell_type": "code",
      "source": [
        "file1 = open('input_bert.txt', 'r')\n",
        "result_doc = file1.readlines()\n",
        "file2 = open('cleaned_queries.txt', 'r')\n",
        "query_doc = file2.readlines()\n",
        "\n",
        "docs = []\n",
        "find = re.compile(r\"\\w+(?=\\s*-[^/])\")\n",
        "# Strips the newline character\n",
        "\n",
        "#make a dictionary that has query number as a key and list of result docs as value\n",
        "\n",
        "\n",
        "for l in result_doc: \n",
        "  docs.append((re.findall(find, l)[0]))\n",
        "\n",
        "set_docs = set(docs)\n",
        "# print(set_docs)\n",
        "regex = re.compile(r'<DOC>(.*?)</DOC>', flags=re.DOTALL)\n",
        "re_docno = re.compile(r'<DOCNO>(.*?)</DOCNO>')\n",
        "re_text = re.compile(r'<TEXT>(.*?)</TEXT>', flags=re.DOTALL)\n",
        "mydict = {}\n",
        "# dictionary where each key is the text doc\n",
        "\n",
        "for doc in set_docs:\n",
        "  f = open(doc, \"r\")\n",
        "  text_doc = f.read()\n",
        "  #the list of all the files we need to look at\n",
        "  all_docs_matched = re.findall(regex, text_doc)\n",
        "  #<-------- get all the text in the doc, text[x] = the text portion of one document--->\n",
        "  text = []\n",
        "  for one_doc in all_docs_matched:\n",
        "    text_one_doc = re.findall(re_text, one_doc)\n",
        "    text.append(' '.join(text_one_doc))\n",
        "  #<------------------------------------------>\n",
        "  doc_no = re.findall(re_docno, text_doc)#all the document numbers\n",
        "  for x in range(len(doc_no)):\n",
        "    if (doc_no[x].strip() in (' '.join(result_doc))):\n",
        "      mydict[doc_no[x].strip()]=text[x].strip()\n",
        "\n",
        "for x in range(len(doc_no)):\n",
        "  if (doc_no[x].strip() in (' '.join(result_doc))):\n",
        "    mydict[doc_no[x].strip()]=text[x].strip()\n",
        "\n",
        "q_dict = {}\n",
        "for i in range(len(query_doc)):\n",
        "  my_int = i*1000\n",
        "  tmp = result_doc[my_int:(my_int+1000)]\n",
        "  q_dict[i] = tmp\n",
        "\n",
        "#each item in this list will be a list  that has the query string as the first item \n",
        "#and the \"1000\" result docs as strings  \n",
        "unencoded_embeddings = []\n",
        "tmp = []\n",
        "\n",
        "for key, value in q_dict.items():\n",
        "  tmp = [query_doc[key]]\n",
        "  for docName in value: \n",
        "    tmp.append(mydict[docName.strip()])\n",
        "  unencoded_embeddings.append(tmp)\n",
        "\n",
        "file_write_list = []\n",
        "\n",
        "for i in range(len(unencoded_embeddings)):\n",
        "  sentence_embeddings = model.encode(unencoded_embeddings[i])\n",
        "  sentence_embeddings.shape\n",
        "  my_arr = cosine_similarity([sentence_embeddings[0]], sentence_embeddings[1:])[0].tolist()\n",
        "  # print(\"Q\"+str(i)+\": \\n\")\n",
        "  list1, list2 = zip(*sorted(zip(my_arr, q_dict[i]), reverse=True))\n",
        "  for num in range(len(list1)):\n",
        "    # query number, q0, doc name, rank, cosine sim \n",
        "    # print(str(i) + \" Q0 \"+ list2[num].strip()+\" \"+ str(num+1)+\" \"+ str(list1[num]) + \"my_search \\n\")\n",
        "    file_write_list.append(str(i) + \" Q0 \"+ list2[num].strip()+\" \"+ str(num+1)+\" \"+ str(list1[num]) + \" my_search \\n\")\n",
        "\n",
        "with open('bert_results.txt', 'w') as f:\n",
        "  for line in file_write_list:\n",
        "    f.write(line)\n"
      ],
      "metadata": {
        "id": "0iway7KxeYc5"
      },
      "execution_count": null,
      "outputs": []
    },
    {
      "cell_type": "code",
      "source": [
        "from numpy import save"
      ],
      "metadata": {
        "id": "AP9p_zLfAbd2"
      },
      "execution_count": null,
      "outputs": []
    },
    {
      "cell_type": "code",
      "source": [
        "file1 = open('input_bert.txt', 'r')\n",
        "result_doc = file1.readlines()\n",
        "\n",
        "filenames = []\n",
        "find = re.compile(r\"\\w+(?=\\s*-[^/])\")\n",
        "# Strips the newline character\n",
        "\n",
        "for l in result_doc: \n",
        "  filenames.append((re.findall(find, l)[0]))\n",
        "\n",
        "regex = re.compile(r'<DOC>(.*?)</DOC>', flags=re.DOTALL)\n",
        "re_text = re.compile(r'<TEXT>(.*?)</TEXT>', flags=re.DOTALL)\n",
        "\n",
        "for filename in filenames: \n",
        "\n",
        "  writeto = filename + \".npy\"\n",
        "  f = open(filename, \"r\")\n",
        "  text_doc = f.read()\n",
        "\n",
        "  docs = []\n",
        "  find = re.compile(r\"\\w+(?=\\s*-[^/])\")\n",
        "  for l in result_doc: \n",
        "    docs.append((re.findall(find, l)[0]))\n",
        "\n",
        "  set_docs = set(docs)\n",
        "  # print(set_docs)\n",
        "  \n",
        "  mydict = {}\n",
        "\n",
        "    #the list of all the files we need to look at\n",
        "  all_docs_matched = re.findall(regex, text_doc)\n",
        "    #<-------- get all the text in the doc, text[x] = the text portion of one document--->\n",
        "  text = []\n",
        "  for one_doc in all_docs_matched:\n",
        "    text_one_doc = re.findall(re_text, one_doc)\n",
        "    text.append(' '.join(text_one_doc))\n",
        "    #<------------------------------------------>\n",
        "  doc_no = re.findall(re_docno, text_doc)#all the document numbers\n",
        "  for x in range(len(doc_no)):\n",
        "    if (doc_no[x].strip() in (' '.join(result_doc))):\n",
        "      mydict[doc_no[x].strip()]=text[x].strip()\n",
        "\n",
        "  arr = list(mydict.values())\n",
        "  sentence_embeddings = model.encode(arr)\n",
        "  sentence_embeddings.shape\n",
        "  save(writeto, sentence_embeddings)"
      ],
      "metadata": {
        "id": "cNPDPVgXBESS"
      },
      "execution_count": null,
      "outputs": []
    },
    {
      "cell_type": "code",
      "source": [
        "file2 = open('cleaned_queries.txt', 'r')\n",
        "query_doc = file2.readlines()\n",
        "sentence_embeddings = model.encode(query_doc)\n",
        "sentence_embeddings.shape\n",
        "save(\"query_embed.npy\", sentence_embeddings)\n"
      ],
      "metadata": {
        "id": "linqrp2SLwW2"
      },
      "execution_count": null,
      "outputs": []
    },
    {
      "cell_type": "code",
      "source": [
        "from numpy import load\n",
        "\n",
        "file1 = open('input_bert.txt', 'r')\n",
        "result_doc = file1.readlines()\n",
        "q_embed = load(\"query_embed.npy\").tolist()\n",
        "\n",
        "docs = []\n",
        "find = re.compile(r\"\\w+(?=\\s*-[^/])\")\n",
        "# Strips the newline character\n",
        "\n",
        "for l in result_doc: \n",
        "  docs.append((re.findall(find, l)[0]))\n",
        "\n",
        "#has all the names of the files we need to open\n",
        "set_docs = set(docs)\n",
        "\n",
        "re_docno = re.compile(r'<DOCNO>(.*?)</DOCNO>')\n",
        "\n",
        "mydict = {}\n",
        "# key -> doc name, value -> text embedding \n",
        "\n",
        "for doc in set_docs:\n",
        "  docname = \"docs/\"+ doc\n",
        "  f = open(docname, \"r\")\n",
        "  text_doc = f.read()\n",
        "  # docs = load(\"embeds/AP880212.npy\")\n",
        "  filename = \"embeds/\"+doc + \".npy\"\n",
        "  embed = load(filename)\n",
        "  \n",
        "  doc_no = re.findall(re_docno, text_doc)#all the document numbers \n",
        "\n",
        "  e_num = 0\n",
        "  for x in range(len(doc_no)):\n",
        "    # for every document number, add to the dictionary if that document is a ranked file\n",
        "    if (doc_no[x].strip() in (' '.join(result_doc))):\n",
        "      mydict[doc_no[x].strip()]=embed[e_num]\n",
        "      e_num += 1\n",
        "\n",
        "\n",
        "#q_dict is a dictionary where\n",
        "# key-> query number, value-> the 1000 ranked doc names as a list\n",
        "q_dict = {}\n",
        "for i in range(len(q_embed)):\n",
        "  my_int = i*1000\n",
        "  tmp = result_doc[my_int:(my_int+1000)]\n",
        "  q_dict[i] = tmp\n",
        "\n",
        "file_write_list = []\n",
        "for key, value in q_dict.items():\n",
        "  arr = []\n",
        "  # key is query number\n",
        "  # value is a list of doc names \n",
        "  # AP880815-0061 \\n'\n",
        "  for docname in value:\n",
        "    arr.append(mydict[docname.strip()]) #create an array with the embeddings\n",
        "\n",
        "  my_arr = cosine_similarity([q_embed[0]], arr[0:])[0].tolist()\n",
        "  list1, list2 = zip(*sorted(zip(my_arr, q_dict[i]), reverse=True))\n",
        "  for num in range(len(list1)):\n",
        "      # query number, q0, doc name, rank, cosine sim \n",
        "    # print(str(i) + \" Q0 \"+ list2[num].strip()+\" \"+ str(num+1)+\" \"+ str(list1[num]) + \"my_search \\n\")\n",
        "    file_write_list.append(str(key) + \" Q0 \"+ list2[num].strip()+\" \"+ str(num+1)+\" \"+ str(list1[num]) + \" my_search \\n\")\n",
        "\n",
        "with open('bert_results.txt', 'w') as f:\n",
        "  for line in file_write_list:\n",
        "    f.write(line)\n"
      ],
      "metadata": {
        "id": "GJJZnCX5cef0"
      },
      "execution_count": null,
      "outputs": []
    }
  ]
}